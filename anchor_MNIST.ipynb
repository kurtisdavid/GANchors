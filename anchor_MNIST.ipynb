{
 "cells": [
  {
   "cell_type": "code",
   "execution_count": 1,
   "metadata": {},
   "outputs": [],
   "source": [
    "import torch\n",
    "import torchvision\n",
    "import image_utils\n",
    "import numpy as np\n",
    "import matplotlib.pyplot as plt\n",
    "import dcgan\n",
    "import csgm\n",
    "import skimage"
   ]
  },
  {
   "cell_type": "code",
   "execution_count": 2,
   "metadata": {},
   "outputs": [],
   "source": [
    "mnist = torchvision.datasets.MNIST('./', train=False, transform=lambda x: np.array(x)/255.,\n",
    "                                   target_transform=None, download=True)"
   ]
  },
  {
   "cell_type": "code",
   "execution_count": 3,
   "metadata": {},
   "outputs": [
    {
     "data": {
      "text/plain": [
       "10000"
      ]
     },
     "execution_count": 3,
     "metadata": {},
     "output_type": "execute_result"
    }
   ],
   "source": [
    "len(mnist)"
   ]
  },
  {
   "cell_type": "code",
   "execution_count": 4,
   "metadata": {},
   "outputs": [],
   "source": [
    "test_img = mnist[0][0]"
   ]
  },
  {
   "cell_type": "code",
   "execution_count": 5,
   "metadata": {},
   "outputs": [
    {
     "data": {
      "text/plain": [
       "(28, 28)"
      ]
     },
     "execution_count": 5,
     "metadata": {},
     "output_type": "execute_result"
    }
   ],
   "source": [
    "test_img.shape"
   ]
  },
  {
   "cell_type": "code",
   "execution_count": 6,
   "metadata": {},
   "outputs": [
    {
     "data": {
      "text/plain": [
       "<matplotlib.image.AxesImage at 0x7fa73bacde48>"
      ]
     },
     "execution_count": 6,
     "metadata": {},
     "output_type": "execute_result"
    },
    {
     "data": {
      "image/png": "[encoded data removed]",
      "text/plain": [
       "<matplotlib.figure.Figure at 0x7fa73c263588>"
      ]
     },
     "metadata": {
      "needs_background": "light"
     },
     "output_type": "display_data"
    }
   ],
   "source": [
    "segments = image_utils.create_segments(test_img, kernel_size=2, max_dist=10, ratio=0.2)\n",
    "plt.imshow(segments)"
   ]
  },
  {
   "cell_type": "code",
   "execution_count": 23,
   "metadata": {},
   "outputs": [
    {
     "name": "stdout",
     "output_type": "stream",
     "text": [
      "[0, 2, 4]\n"
     ]
    }
   ],
   "source": [
    "exp = {}\n",
    "exp['feature']=[0,2,4]\n",
    "_,mask = image_utils.create_mask(test_img,segments,exp)"
   ]
  },
  {
   "cell_type": "code",
   "execution_count": null,
   "metadata": {},
   "outputs": [],
   "source": []
  },
  {
   "cell_type": "code",
   "execution_count": 24,
   "metadata": {},
   "outputs": [],
   "source": [
    "target = (test_img-0.5)*2 * mask"
   ]
  },
  {
   "cell_type": "code",
   "execution_count": 25,
   "metadata": {},
   "outputs": [
    {
     "data": {
      "text/plain": [
       "<matplotlib.image.AxesImage at 0x7fa732dd7e10>"
      ]
     },
     "execution_count": 25,
     "metadata": {},
     "output_type": "execute_result"
    },
    {
     "data": {
      "image/png": "[encoded data removed]",
      "text/plain": [
       "<matplotlib.figure.Figure at 0x7fa732e5b908>"
      ]
     },
     "metadata": {
      "needs_background": "light"
     },
     "output_type": "display_data"
    }
   ],
   "source": [
    "plt.imshow(target)"
   ]
  },
  {
   "cell_type": "code",
   "execution_count": 10,
   "metadata": {},
   "outputs": [
    {
     "data": {
      "text/plain": [
       "587.0"
      ]
     },
     "execution_count": 10,
     "metadata": {},
     "output_type": "execute_result"
    }
   ],
   "source": [
    "np.sum(mask)"
   ]
  },
  {
   "cell_type": "markdown",
   "metadata": {},
   "source": [
    "## CSGM"
   ]
  },
  {
   "cell_type": "code",
   "execution_count": 11,
   "metadata": {},
   "outputs": [],
   "source": [
    "G = dcgan.load_generator().cuda()"
   ]
  },
  {
   "cell_type": "code",
   "execution_count": 12,
   "metadata": {},
   "outputs": [
    {
     "data": {
      "text/plain": [
       "(28, 28)"
      ]
     },
     "execution_count": 12,
     "metadata": {},
     "output_type": "execute_result"
    }
   ],
   "source": [
    "target.shape"
   ]
  },
  {
   "cell_type": "code",
   "execution_count": 26,
   "metadata": {
    "scrolled": false
   },
   "outputs": [
    {
     "name": "stdout",
     "output_type": "stream",
     "text": [
      "0 tensor(0.4977, device='cuda:0')\n",
      "10 tensor(0.0976, device='cuda:0')\n",
      "20 tensor(0.0712, device='cuda:0')\n",
      "30 tensor(0.0512, device='cuda:0')\n",
      "40 tensor(0.0456, device='cuda:0')\n",
      "50 tensor(0.0446, device='cuda:0')\n",
      "60 tensor(0.0440, device='cuda:0')\n",
      "70 tensor(0.0436, device='cuda:0')\n",
      "80 tensor(0.0431, device='cuda:0')\n",
      "90 tensor(0.0427, device='cuda:0')\n",
      "100 tensor(0.0425, device='cuda:0')\n",
      "110 tensor(0.0422, device='cuda:0')\n",
      "120 tensor(0.0420, device='cuda:0')\n",
      "130 tensor(0.0417, device='cuda:0')\n",
      "140 tensor(0.0415, device='cuda:0')\n",
      "150 tensor(0.0413, device='cuda:0')\n",
      "160 tensor(0.0411, device='cuda:0')\n",
      "170 tensor(0.0409, device='cuda:0')\n",
      "180 tensor(0.0407, device='cuda:0')\n",
      "190 tensor(0.0405, device='cuda:0')\n",
      "200 tensor(0.0403, device='cuda:0')\n",
      "210 tensor(0.0401, device='cuda:0')\n",
      "220 tensor(0.0399, device='cuda:0')\n",
      "230 tensor(0.0397, device='cuda:0')\n",
      "240 tensor(0.0395, device='cuda:0')\n",
      "250 tensor(0.0393, device='cuda:0')\n",
      "260 tensor(0.0390, device='cuda:0')\n",
      "270 tensor(0.0387, device='cuda:0')\n",
      "280 tensor(0.0383, device='cuda:0')\n",
      "290 tensor(0.0377, device='cuda:0')\n",
      "300 tensor(0.0371, device='cuda:0')\n",
      "310 tensor(0.0358, device='cuda:0')\n",
      "320 tensor(0.0321, device='cuda:0')\n",
      "330 tensor(0.0210, device='cuda:0')\n",
      "340 tensor(0.0192, device='cuda:0')\n",
      "350 tensor(0.0178, device='cuda:0')\n",
      "360 tensor(0.0166, device='cuda:0')\n",
      "370 tensor(0.0157, device='cuda:0')\n",
      "380 tensor(0.0149, device='cuda:0')\n",
      "390 tensor(0.0142, device='cuda:0')\n",
      "400 tensor(0.0137, device='cuda:0')\n",
      "410 tensor(0.0131, device='cuda:0')\n",
      "420 tensor(0.0126, device='cuda:0')\n",
      "430 tensor(0.0123, device='cuda:0')\n",
      "440 tensor(0.0120, device='cuda:0')\n",
      "450 tensor(0.0117, device='cuda:0')\n",
      "460 tensor(0.0115, device='cuda:0')\n",
      "470 tensor(0.0113, device='cuda:0')\n",
      "480 tensor(0.0111, device='cuda:0')\n",
      "490 tensor(0.0109, device='cuda:0')\n",
      "500 tensor(0.0108, device='cuda:0')\n",
      "510 tensor(0.0105, device='cuda:0')\n",
      "520 tensor(0.0103, device='cuda:0')\n",
      "530 tensor(0.0100, device='cuda:0')\n",
      "540 tensor(0.0098, device='cuda:0')\n",
      "550 tensor(0.0096, device='cuda:0')\n",
      "560 tensor(0.0093, device='cuda:0')\n",
      "570 tensor(0.0091, device='cuda:0')\n",
      "580 tensor(0.0090, device='cuda:0')\n",
      "590 tensor(0.0088, device='cuda:0')\n",
      "600 tensor(0.0087, device='cuda:0')\n",
      "610 tensor(0.0086, device='cuda:0')\n",
      "620 tensor(0.0085, device='cuda:0')\n",
      "630 tensor(0.0084, device='cuda:0')\n",
      "640 tensor(0.0083, device='cuda:0')\n",
      "650 tensor(0.0082, device='cuda:0')\n",
      "660 tensor(0.0082, device='cuda:0')\n",
      "670 tensor(0.0081, device='cuda:0')\n",
      "680 tensor(0.0081, device='cuda:0')\n",
      "690 tensor(0.0080, device='cuda:0')\n",
      "700 tensor(0.0080, device='cuda:0')\n",
      "710 tensor(0.0079, device='cuda:0')\n",
      "720 tensor(0.0079, device='cuda:0')\n",
      "730 tensor(0.0079, device='cuda:0')\n",
      "740 tensor(0.0078, device='cuda:0')\n",
      "750 tensor(0.0078, device='cuda:0')\n",
      "760 tensor(0.0078, device='cuda:0')\n",
      "770 tensor(0.0077, device='cuda:0')\n",
      "780 tensor(0.0077, device='cuda:0')\n",
      "790 tensor(0.0077, device='cuda:0')\n",
      "800 tensor(0.0077, device='cuda:0')\n",
      "810 tensor(0.0076, device='cuda:0')\n",
      "820 tensor(0.0076, device='cuda:0')\n",
      "830 tensor(0.0076, device='cuda:0')\n",
      "840 tensor(0.0075, device='cuda:0')\n",
      "850 tensor(0.0074, device='cuda:0')\n",
      "860 tensor(0.0073, device='cuda:0')\n",
      "870 tensor(0.0073, device='cuda:0')\n",
      "880 tensor(0.0072, device='cuda:0')\n",
      "890 tensor(0.0070, device='cuda:0')\n",
      "900 tensor(0.0069, device='cuda:0')\n",
      "910 tensor(0.0068, device='cuda:0')\n",
      "920 tensor(0.0068, device='cuda:0')\n",
      "930 tensor(0.0067, device='cuda:0')\n",
      "940 tensor(0.0066, device='cuda:0')\n",
      "950 tensor(0.0066, device='cuda:0')\n",
      "960 tensor(0.0065, device='cuda:0')\n",
      "970 tensor(0.0065, device='cuda:0')\n",
      "980 tensor(0.0065, device='cuda:0')\n",
      "990 tensor(0.0064, device='cuda:0')\n"
     ]
    }
   ],
   "source": [
    "best_z = csgm.reconstruct(target, mask, np.sum(mask), G)"
   ]
  },
  {
   "cell_type": "code",
   "execution_count": 27,
   "metadata": {},
   "outputs": [],
   "source": [
    "x = G(torch.from_numpy(best_z).cuda()).data.cpu().numpy()[0].squeeze()"
   ]
  },
  {
   "cell_type": "code",
   "execution_count": 28,
   "metadata": {},
   "outputs": [
    {
     "data": {
      "text/plain": [
       "(28, 28)"
      ]
     },
     "execution_count": 28,
     "metadata": {},
     "output_type": "execute_result"
    }
   ],
   "source": [
    "x.shape"
   ]
  },
  {
   "cell_type": "code",
   "execution_count": 31,
   "metadata": {},
   "outputs": [
    {
     "data": {
      "text/plain": [
       "<matplotlib.image.AxesImage at 0x7fa732cf9fd0>"
      ]
     },
     "execution_count": 31,
     "metadata": {},
     "output_type": "execute_result"
    },
    {
     "data": {
      "image/png": "[encoded data removed]",
      "text/plain": [
       "<matplotlib.figure.Figure at 0x7fa732d366a0>"
      ]
     },
     "metadata": {
      "needs_background": "light"
     },
     "output_type": "display_data"
    }
   ],
   "source": [
    "plt.imshow(x*mask)"
   ]
  },
  {
   "cell_type": "code",
   "execution_count": 32,
   "metadata": {},
   "outputs": [
    {
     "data": {
      "text/plain": [
       "<matplotlib.image.AxesImage at 0x7fa732c58e80>"
      ]
     },
     "execution_count": 32,
     "metadata": {},
     "output_type": "execute_result"
    },
    {
     "data": {
      "image/png": "[encoded data removed]",
      "text/plain": [
       "<matplotlib.figure.Figure at 0x7fa732dcd828>"
      ]
     },
     "metadata": {
      "needs_background": "light"
     },
     "output_type": "display_data"
    }
   ],
   "source": [
    "plt.imshow(target + (1-mask)*x)"
   ]
  },
  {
   "cell_type": "code",
   "execution_count": null,
   "metadata": {},
   "outputs": [],
   "source": []
  },
  {
   "cell_type": "code",
   "execution_count": null,
   "metadata": {},
   "outputs": [],
   "source": []
  }
 ],
 "metadata": {
  "kernelspec": {
   "display_name": "Python 3",
   "language": "python",
   "name": "python3"
  },
  "language_info": {
   "codemirror_mode": {
    "name": "ipython",
    "version": 3
   },
   "file_extension": ".py",
   "mimetype": "text/x-python",
   "name": "python",
   "nbconvert_exporter": "python",
   "pygments_lexer": "ipython3",
   "version": "3.6.6"
  }
 },
 "nbformat": 4,
 "nbformat_minor": 2
}
