{
 "cells": [
  {
   "cell_type": "code",
   "execution_count": 1,
   "metadata": {},
   "outputs": [],
   "source": [
    "import numpy as np\n",
    "from scipy.special import expit as sigmoid, logit\n",
    "import matplotlib.pyplot as plt\n",
    "import csgm\n",
    "import torch\n",
    "import torchvision\n",
    "import image_utils\n",
    "import dcgan\n",
    "import skimage"
   ]
  },
  {
   "cell_type": "code",
   "execution_count": 2,
   "metadata": {},
   "outputs": [],
   "source": [
    "mnist = torchvision.datasets.MNIST('./', train=False, transform=lambda x: np.array(x)/255.,\n",
    "                                   target_transform=None, download=True)"
   ]
  },
  {
   "cell_type": "code",
   "execution_count": 3,
   "metadata": {},
   "outputs": [],
   "source": [
    "test_img = mnist[4][0]"
   ]
  },
  {
   "cell_type": "code",
   "execution_count": 4,
   "metadata": {},
   "outputs": [
    {
     "name": "stdout",
     "output_type": "stream",
     "text": [
      "15 3.828124999999997\n"
     ]
    },
    {
     "data": {
      "text/plain": [
       "<matplotlib.colorbar.Colorbar at 0x7f79a678b080>"
      ]
     },
     "execution_count": 4,
     "metadata": {},
     "output_type": "execute_result"
    },
    {
     "data": {
      "image/png": "[encoded data removed]",
      "text/plain": [
       "<matplotlib.figure.Figure at 0x7f79a72effd0>"
      ]
     },
     "metadata": {
      "needs_background": "light"
     },
     "output_type": "display_data"
    }
   ],
   "source": [
    "segments = image_utils.create_segments(test_img, kernel_size=2, max_dist=10, ratio=0.2)\n",
    "plt.imshow(segments), np.max(segments)\n",
    "plt.colorbar()"
   ]
  },
  {
   "cell_type": "code",
   "execution_count": 5,
   "metadata": {},
   "outputs": [
    {
     "data": {
      "text/plain": [
       "<matplotlib.image.AxesImage at 0x7f79a4733c50>"
      ]
     },
     "execution_count": 5,
     "metadata": {},
     "output_type": "execute_result"
    },
    {
     "data": {
      "image/png": "[encoded data removed]",
      "text/plain": [
       "<matplotlib.figure.Figure at 0x7f79a67da710>"
      ]
     },
     "metadata": {
      "needs_background": "light"
     },
     "output_type": "display_data"
    }
   ],
   "source": [
    "exp = {}\n",
    "exp['feature']=[9]\n",
    "_,mask = image_utils.create_mask(test_img,segments,exp)\n",
    "plt.imshow(mask)"
   ]
  },
  {
   "cell_type": "code",
   "execution_count": 6,
   "metadata": {},
   "outputs": [
    {
     "data": {
      "text/plain": [
       "<matplotlib.image.AxesImage at 0x7f79a46986d8>"
      ]
     },
     "execution_count": 6,
     "metadata": {},
     "output_type": "execute_result"
    },
    {
     "data": {
      "image/png": "[encoded data removed]",
      "text/plain": [
       "<matplotlib.figure.Figure at 0x7f79a6817668>"
      ]
     },
     "metadata": {
      "needs_background": "light"
     },
     "output_type": "display_data"
    }
   ],
   "source": [
    "target = ((test_img-0.5)*2) * mask\n",
    "plt.imshow(target)"
   ]
  },
  {
   "cell_type": "code",
   "execution_count": 90,
   "metadata": {},
   "outputs": [],
   "source": [
    "G = dcgan.load_generator().cuda()"
   ]
  },
  {
   "cell_type": "code",
   "execution_count": 9,
   "metadata": {},
   "outputs": [
    {
     "data": {
      "text/plain": [
       "Generator(\n",
       "  (main): Sequential(\n",
       "    (0): ConvTranspose2d(100, 512, kernel_size=(4, 4), stride=(1, 1), bias=False)\n",
       "    (1): BatchNorm2d(512, eps=1e-05, momentum=0.1, affine=True, track_running_stats=True)\n",
       "    (2): ReLU(inplace)\n",
       "    (3): ConvTranspose2d(512, 256, kernel_size=(4, 4), stride=(2, 2), padding=(1, 1), bias=False)\n",
       "    (4): BatchNorm2d(256, eps=1e-05, momentum=0.1, affine=True, track_running_stats=True)\n",
       "    (5): ReLU(inplace)\n",
       "    (6): ConvTranspose2d(256, 128, kernel_size=(4, 4), stride=(2, 2), padding=(1, 1), bias=False)\n",
       "    (7): BatchNorm2d(128, eps=1e-05, momentum=0.1, affine=True, track_running_stats=True)\n",
       "    (8): ReLU(inplace)\n",
       "    (9): ConvTranspose2d(128, 64, kernel_size=(4, 4), stride=(2, 2), padding=(1, 1), bias=False)\n",
       "    (10): BatchNorm2d(64, eps=1e-05, momentum=0.1, affine=True, track_running_stats=True)\n",
       "    (11): ReLU(inplace)\n",
       "    (12): ConvTranspose2d(64, 1, kernel_size=(1, 1), stride=(1, 1), padding=(2, 2), bias=False)\n",
       "    (13): Tanh()\n",
       "  )\n",
       ")"
      ]
     },
     "execution_count": 9,
     "metadata": {},
     "output_type": "execute_result"
    }
   ],
   "source": [
    "G.train()"
   ]
  },
  {
   "cell_type": "code",
   "execution_count": 10,
   "metadata": {},
   "outputs": [],
   "source": [
    "import importlib"
   ]
  },
  {
   "cell_type": "code",
   "execution_count": 98,
   "metadata": {},
   "outputs": [
    {
     "data": {
      "text/plain": [
       "<module 'csgm' from '/home/kurtis/Desktop/anchor/ImageAnchors/csgm.py'>"
      ]
     },
     "execution_count": 98,
     "metadata": {},
     "output_type": "execute_result"
    }
   ],
   "source": [
    "importlib.reload(csgm)"
   ]
  },
  {
   "cell_type": "code",
   "execution_count": 68,
   "metadata": {},
   "outputs": [
    {
     "data": {
      "text/plain": [
       "0.03738705667198103"
      ]
     },
     "execution_count": 68,
     "metadata": {},
     "output_type": "execute_result"
    }
   ],
   "source": [
    "x[64]"
   ]
  },
  {
   "cell_type": "code",
   "execution_count": 72,
   "metadata": {},
   "outputs": [
    {
     "data": {
      "text/plain": [
       "(100,)"
      ]
     },
     "execution_count": 72,
     "metadata": {},
     "output_type": "execute_result"
    }
   ],
   "source": [
    "x.shape"
   ]
  },
  {
   "cell_type": "code",
   "execution_count": 94,
   "metadata": {},
   "outputs": [],
   "source": [
    "G.train();"
   ]
  },
  {
   "cell_type": "code",
   "execution_count": 99,
   "metadata": {
    "scrolled": true
   },
   "outputs": [
    {
     "name": "stdout",
     "output_type": "stream",
     "text": [
      "0.077080406\n",
      "0.07078957\n",
      "0.065675266\n",
      "0.051930103\n",
      "0.0519534\n",
      "0.051146295\n",
      "0.049653426\n",
      "0.053558677\n",
      "0.054573942\n",
      "0.04964095\n",
      "0.0511395\n",
      "0.047510926\n",
      "0.0495447\n",
      "0.051628288\n",
      "0.047509935\n",
      "0.047731638\n",
      "0.050153654\n",
      "0.045034595\n",
      "0.047492586\n",
      "0.043786094\n",
      "restarting with  44  left\n",
      "0.1018578\n",
      "0.090596\n",
      "0.053780135\n",
      "0.04680123\n",
      "0.052457895\n",
      "0.046199962\n",
      "0.047473073\n",
      "0.044011425\n",
      "0.04446882\n",
      "0.042750306\n",
      "0.039708607\n",
      "0.041079663\n",
      "0.039923947\n",
      "0.037284415\n",
      "0.03652869\n",
      "0.034962997\n",
      "0.037346393\n",
      "0.03640753\n",
      "0.032267004\n",
      "0.03174049\n",
      "restarting with  4  left\n",
      "0.12730205\n",
      "0.06474799\n",
      "0.03536685\n",
      "0.038531706\n",
      "0.0379275\n",
      "0.029828398\n"
     ]
    }
   ],
   "source": [
    "z, recon, background = csgm.reconstruct_batch_threshold(target, mask, np.sum(mask), G, 100, threshold=x)"
   ]
  },
  {
   "cell_type": "code",
   "execution_count": 79,
   "metadata": {},
   "outputs": [
    {
     "data": {
      "text/plain": [
       "(100, 100, 1, 1)"
      ]
     },
     "execution_count": 79,
     "metadata": {},
     "output_type": "execute_result"
    }
   ],
   "source": [
    "z.shape"
   ]
  },
  {
   "cell_type": "code",
   "execution_count": 80,
   "metadata": {},
   "outputs": [
    {
     "data": {
      "text/plain": [
       "(100, 28, 28)"
      ]
     },
     "execution_count": 80,
     "metadata": {},
     "output_type": "execute_result"
    }
   ],
   "source": [
    "recon.shape"
   ]
  },
  {
   "cell_type": "code",
   "execution_count": 23,
   "metadata": {},
   "outputs": [
    {
     "data": {
      "text/plain": [
       "<matplotlib.image.AxesImage at 0x7f28c612a588>"
      ]
     },
     "execution_count": 23,
     "metadata": {},
     "output_type": "execute_result"
    },
    {
     "data": {
      "image/png": "[encoded data removed]",
      "text/plain": [
       "<matplotlib.figure.Figure at 0x7f28ce1eb828>"
      ]
     },
     "metadata": {
      "needs_background": "light"
     },
     "output_type": "display_data"
    }
   ],
   "source": [
    "plt.imshow(target)"
   ]
  },
  {
   "cell_type": "code",
   "execution_count": 24,
   "metadata": {},
   "outputs": [
    {
     "data": {
      "text/plain": [
       "<matplotlib.image.AxesImage at 0x7f28c608b0b8>"
      ]
     },
     "execution_count": 24,
     "metadata": {},
     "output_type": "execute_result"
    },
    {
     "data": {
      "image/png": "[encoded data removed]",
      "text/plain": [
       "<matplotlib.figure.Figure at 0x7f28ce1a8a58>"
      ]
     },
     "metadata": {
      "needs_background": "light"
     },
     "output_type": "display_data"
    }
   ],
   "source": [
    "plt.imshow(recon[0]*mask)"
   ]
  },
  {
   "cell_type": "code",
   "execution_count": 25,
   "metadata": {
    "scrolled": true
   },
   "outputs": [
    {
     "name": "stdout",
     "output_type": "stream",
     "text": [
      "0.19646015982727325\n"
     ]
    }
   ],
   "source": [
    "print( np.sqrt(np.sum( (recon[0]*mask - target) ** 2 )/np.sum(mask) ))"
   ]
  },
  {
   "cell_type": "code",
   "execution_count": 26,
   "metadata": {},
   "outputs": [
    {
     "data": {
      "text/plain": [
       "array([0.0458154 , 0.04580955, 0.03562134, 0.0419808 , 0.04830588,\n",
       "       0.04330686, 0.04919067, 0.04926091, 0.04463404, 0.04175588,\n",
       "       0.0473591 , 0.0317543 , 0.04706499, 0.0339813 , 0.03267125,\n",
       "       0.04915529, 0.04290936, 0.04826972, 0.04796605, 0.04980363,\n",
       "       0.0495332 , 0.03410337, 0.03654693, 0.03853688, 0.04060611,\n",
       "       0.04370687, 0.04629409, 0.04689304, 0.04963337, 0.0491184 ,\n",
       "       0.03864073, 0.03022632, 0.04110238, 0.03894768, 0.03811239,\n",
       "       0.03895564, 0.04372223, 0.04571913, 0.04563116, 0.04771431,\n",
       "       0.04748044, 0.04606528, 0.04119256, 0.04194054, 0.02963715,\n",
       "       0.04589503, 0.04603018, 0.03072805, 0.04888068, 0.04780384,\n",
       "       0.04597193, 0.03302205, 0.0426869 , 0.0443224 , 0.04433999,\n",
       "       0.02718048, 0.04547274, 0.04733449, 0.04384287, 0.04036788,\n",
       "       0.04081556, 0.04251347, 0.04715359, 0.03600808, 0.03738706,\n",
       "       0.04443669, 0.04808081, 0.04609238, 0.04756217, 0.04457436,\n",
       "       0.04231923, 0.04318143, 0.0484097 , 0.0454467 , 0.0453172 ,\n",
       "       0.03817749, 0.04516492, 0.04363204, 0.04275252, 0.04785059,\n",
       "       0.04727869, 0.04869377, 0.03262892, 0.04986987, 0.03837705,\n",
       "       0.04083702, 0.03718143, 0.03202947, 0.04916657, 0.04979482,\n",
       "       0.04402964, 0.04014197, 0.04905234, 0.04909588, 0.03915398,\n",
       "       0.04112887, 0.04264385, 0.04150289, 0.04892642, 0.04820771])"
      ]
     },
     "execution_count": 26,
     "metadata": {},
     "output_type": "execute_result"
    }
   ],
   "source": [
    "x"
   ]
  },
  {
   "cell_type": "code",
   "execution_count": 81,
   "metadata": {},
   "outputs": [],
   "source": [
    "taus = []\n",
    "for i in range(recon.shape[0]):\n",
    "    taus.append(np.sum((recon[i]*mask - target)**2)/np.sum(mask))"
   ]
  },
  {
   "cell_type": "code",
   "execution_count": 82,
   "metadata": {
    "scrolled": false
   },
   "outputs": [
    {
     "data": {
      "text/plain": [
       "(array([ 1.,  4.,  5.,  3.,  6., 11., 13., 17., 21., 19.]),\n",
       " array([0.02711279, 0.02938234, 0.03165189, 0.03392144, 0.03619099,\n",
       "        0.03846054, 0.04073009, 0.04299964, 0.04526919, 0.04753874,\n",
       "        0.04980829]),\n",
       " <a list of 10 Patch objects>)"
      ]
     },
     "execution_count": 82,
     "metadata": {},
     "output_type": "execute_result"
    },
    {
     "data": {
      "image/png": "[encoded data removed]",
      "text/plain": [
       "<matplotlib.figure.Figure at 0x7f28d02d1cf8>"
      ]
     },
     "metadata": {
      "needs_background": "light"
     },
     "output_type": "display_data"
    }
   ],
   "source": [
    "plt.hist(taus)"
   ]
  },
  {
   "cell_type": "code",
   "execution_count": 85,
   "metadata": {},
   "outputs": [
    {
     "data": {
      "text/plain": [
       "array([-6.15793927e-05, -2.13083525e-04, -3.24912678e-04, -4.40510972e-04,\n",
       "       -4.26846060e-04, -2.15639291e-04, -1.52308546e-04, -1.36603774e-04,\n",
       "       -2.36553682e-04, -2.11281789e-04, -2.29553883e-04, -5.80695139e-04,\n",
       "       -5.46441200e-04, -5.15786788e-04, -5.09548135e-04, -2.97565882e-04,\n",
       "       -3.49108896e-04, -4.06918391e-04, -3.63434481e-04, -5.70297042e-04,\n",
       "       -5.64227252e-04, -5.48482136e-04, -5.80716817e-04, -5.64044929e-04,\n",
       "       -4.50874636e-04, -3.71624808e-04, -2.65391939e-04, -2.83940744e-04,\n",
       "       -3.17002380e-04, -5.32138984e-04, -4.70145840e-04, -7.03935069e-04,\n",
       "       -2.83993587e-04, -1.74513692e-04, -1.56932159e-04, -3.01447053e-04,\n",
       "       -2.46037027e-04, -2.74582714e-04, -3.38748051e-04, -5.13322368e-04,\n",
       "       -5.23389214e-04, -5.58174991e-04, -4.28494179e-04, -4.79845245e-04,\n",
       "       -5.41713985e-04, -5.65802290e-04, -2.14593202e-04, -1.58873105e-04,\n",
       "       -5.73336773e-05, -2.50714765e-04, -3.76861717e-04, -3.93196504e-04,\n",
       "       -2.23210083e-04, -2.40401687e-04, -2.99552036e-04, -3.40939997e-04,\n",
       "       -2.33994186e-04, -5.10355716e-04, -3.41957483e-04, -2.73487925e-04,\n",
       "       -4.21196465e-04, -4.65981486e-04, -5.06188772e-04, -3.24511256e-04,\n",
       "       -2.11787293e-04, -4.29209300e-04, -2.55705998e-04, -3.86603313e-05,\n",
       "       -8.91514796e-05, -5.92051047e-05, -4.61454624e-04, -4.58215429e-04,\n",
       "       -4.48214890e-04, -3.20239511e-04, -3.75404848e-04, -1.53434324e-04,\n",
       "       -1.42852243e-04, -6.35101702e-05, -4.10567178e-04, -1.08791844e-04,\n",
       "       -6.93413601e-05, -4.41556684e-04, -2.54340860e-04, -5.65950124e-04,\n",
       "       -2.57873977e-04, -8.43897204e-05, -2.69685664e-04, -4.40471651e-04,\n",
       "       -4.31458793e-04, -5.00839711e-05, -5.31435525e-04, -1.46165270e-04,\n",
       "       -2.13479789e-04, -3.04236380e-04, -5.90730410e-05, -2.51412870e-04,\n",
       "       -6.64018303e-05, -6.19250339e-05, -2.06942453e-05, -6.76901921e-05])"
      ]
     },
     "execution_count": 85,
     "metadata": {},
     "output_type": "execute_result"
    }
   ],
   "source": [
    "np.sort(taus)[::-1] - np.sort(x)[::-1]"
   ]
  },
  {
   "cell_type": "code",
   "execution_count": 83,
   "metadata": {
    "scrolled": false
   },
   "outputs": [
    {
     "data": {
      "text/plain": [
       "(array([ 1.,  3.,  6.,  3.,  6.,  8., 15., 14., 20., 24.]),\n",
       " array([0.02718048, 0.02944942, 0.03171836, 0.03398729, 0.03625623,\n",
       "        0.03852517, 0.04079411, 0.04306305, 0.04533199, 0.04760093,\n",
       "        0.04986987]),\n",
       " <a list of 10 Patch objects>)"
      ]
     },
     "execution_count": 83,
     "metadata": {},
     "output_type": "execute_result"
    },
    {
     "data": {
      "image/png": "[encoded data removed]",
      "text/plain": [
       "<matplotlib.figure.Figure at 0x7f28af3240f0>"
      ]
     },
     "metadata": {
      "needs_background": "light"
     },
     "output_type": "display_data"
    }
   ],
   "source": [
    "plt.hist(x)"
   ]
  },
  {
   "cell_type": "code",
   "execution_count": 62,
   "metadata": {},
   "outputs": [
    {
     "data": {
      "text/plain": [
       "array([0.04986987, 0.04980363, 0.04979482, 0.04963337, 0.0495332 ,\n",
       "       0.04926091, 0.04919067, 0.04916657, 0.04915529, 0.0491184 ,\n",
       "       0.04909588, 0.04905234, 0.04892642, 0.04888068, 0.04869377,\n",
       "       0.0484097 , 0.04830588, 0.04826972, 0.04820771, 0.04808081,\n",
       "       0.04796605, 0.04785059, 0.04780384, 0.04771431, 0.04756217,\n",
       "       0.04748044, 0.0473591 , 0.04733449, 0.04727869, 0.04715359,\n",
       "       0.04706499, 0.04689304, 0.04629409, 0.04609238, 0.04606528,\n",
       "       0.04603018, 0.04597193, 0.04589503, 0.0458154 , 0.04580955,\n",
       "       0.04571913, 0.04563116, 0.04547274, 0.0454467 , 0.0453172 ,\n",
       "       0.04516492, 0.04463404, 0.04457436, 0.04443669, 0.04433999,\n",
       "       0.0443224 , 0.04402964, 0.04384287, 0.04372223, 0.04370687,\n",
       "       0.04363204, 0.04330686, 0.04318143, 0.04290936, 0.04275252,\n",
       "       0.0426869 , 0.04264385, 0.04251347, 0.04231923, 0.0419808 ,\n",
       "       0.04194054, 0.04175588, 0.04150289, 0.04119256, 0.04112887,\n",
       "       0.04110238, 0.04083702, 0.04081556, 0.04060611, 0.04036788,\n",
       "       0.04014197, 0.03915398, 0.03895564, 0.03894768, 0.03864073,\n",
       "       0.03853688, 0.03837705, 0.03817749, 0.03811239, 0.03738706,\n",
       "       0.03718143, 0.03654693, 0.03600808, 0.03562134, 0.03410337,\n",
       "       0.0339813 , 0.03302205, 0.03267125, 0.03262892, 0.03202947,\n",
       "       0.0317543 , 0.03072805, 0.03022632, 0.02963715, 0.02718048])"
      ]
     },
     "execution_count": 62,
     "metadata": {},
     "output_type": "execute_result"
    }
   ],
   "source": [
    "np.sort(x)[::-1]"
   ]
  },
  {
   "cell_type": "code",
   "execution_count": 99,
   "metadata": {},
   "outputs": [
    {
     "data": {
      "text/plain": [
       "<matplotlib.image.AxesImage at 0x7f2f48029dd8>"
      ]
     },
     "execution_count": 99,
     "metadata": {},
     "output_type": "execute_result"
    },
    {
     "data": {
      "image/png": "[encoded data removed]",
      "text/plain": [
       "<matplotlib.figure.Figure at 0x7f2f53627be0>"
      ]
     },
     "metadata": {
      "needs_background": "light"
     },
     "output_type": "display_data"
    }
   ],
   "source": [
    "plt.imshow( (G(torch.from_numpy(z[0:1]).cuda()).squeeze().data.cpu().numpy() + 1)/2 * mask - target)"
   ]
  },
  {
   "cell_type": "code",
   "execution_count": 76,
   "metadata": {},
   "outputs": [
    {
     "data": {
      "text/plain": [
       "<matplotlib.image.AxesImage at 0x7f2f4819b4e0>"
      ]
     },
     "execution_count": 76,
     "metadata": {},
     "output_type": "execute_result"
    },
    {
     "data": {
      "image/png": "[encoded data removed]",
      "text/plain": [
       "<matplotlib.figure.Figure at 0x7f2f48227908>"
      ]
     },
     "metadata": {
      "needs_background": "light"
     },
     "output_type": "display_data"
    }
   ],
   "source": [
    "plt.imshow( (recon[0] * mask) - target)"
   ]
  },
  {
   "cell_type": "markdown",
   "metadata": {},
   "source": [
    "## Testing Anchor"
   ]
  },
  {
   "cell_type": "code",
   "execution_count": 11,
   "metadata": {},
   "outputs": [],
   "source": [
    "import anchor_image\n",
    "import importlib"
   ]
  },
  {
   "cell_type": "code",
   "execution_count": 8,
   "metadata": {},
   "outputs": [],
   "source": [
    "net = dcgan.Net()\n",
    "net.load_state_dict(torch.load('mnist_cnn.pt'))"
   ]
  },
  {
   "cell_type": "code",
   "execution_count": 9,
   "metadata": {},
   "outputs": [],
   "source": [
    "def predict_fn(images):\n",
    "    try:\n",
    "        images = torch.from_numpy(images).type(torch.FloatTensor)\n",
    "    except:\n",
    "        pass\n",
    "    return net(images.view(images.shape[0],1,28,28)).data.numpy()"
   ]
  },
  {
   "cell_type": "code",
   "execution_count": 12,
   "metadata": {
    "scrolled": true
   },
   "outputs": [
    {
     "data": {
      "text/plain": [
       "<module 'csgm' from '/home/kurtis/Desktop/anchor/ImageAnchors/csgm.py'>"
      ]
     },
     "execution_count": 12,
     "metadata": {},
     "output_type": "execute_result"
    }
   ],
   "source": [
    "importlib.reload(anchor_image)\n",
    "importlib.reload(csgm)"
   ]
  },
  {
   "cell_type": "code",
   "execution_count": 13,
   "metadata": {},
   "outputs": [],
   "source": [
    "import pretrained_models"
   ]
  },
  {
   "cell_type": "code",
   "execution_count": 14,
   "metadata": {},
   "outputs": [],
   "source": [
    "explainer = anchor_image.AnchorImageMNIST([], 'yeet', # dummys = mnist_test,\n",
    "                               G=lambda x: dcgan.load_generator(False), dataset = mnist,batch_norm=True,\n",
    "                                true_sampling=True, threshold=0.05, encode=True, \n",
    "                                encoder = lambda x: pretrained_models.load_encoder(device=x))"
   ]
  },
  {
   "cell_type": "code",
   "execution_count": 213,
   "metadata": {},
   "outputs": [
    {
     "name": "stdout",
     "output_type": "stream",
     "text": [
      "15 3.828125000000001\n",
      "True pred 4\n",
      "Taking coverage data...\n",
      "Checkpoint 1\n",
      "Making tuples...\n",
      "Best: 14 (mean:1.0000000000, n: 1, lb:0.0000) Worst: 1 (mean:0.0000, n: 1, ub:1.0000) B = 1.00\n",
      "Best: 9 (mean:1.0000000000, n: 1, lb:0.0000) Worst: 2 (mean:0.0000, n: 1, ub:1.0000) B = 1.00\n",
      "Best: 8 (mean:1.0000000000, n: 1, lb:0.0000) Worst: 3 (mean:0.0000, n: 1, ub:1.0000) B = 1.00\n",
      "Best: 0 (mean:1.0000000000, n: 1, lb:0.0000) Worst: 4 (mean:0.0000, n: 1, ub:1.0000) B = 1.00\n",
      "Best: 9 (mean:0.6930693069, n: 101, lb:0.4200) Worst: 5 (mean:0.0000, n: 1, ub:1.0000) B = 0.58\n",
      "Best: 9 (mean:0.7462686567, n: 201, lb:0.5564) Worst: 6 (mean:0.0000, n: 1, ub:1.0000) B = 0.44\n",
      "Best: 9 (mean:0.7674418605, n: 301, lb:0.6157) Worst: 7 (mean:0.0000, n: 1, ub:1.0000) B = 0.38\n",
      "Best: 9 (mean:0.7830423940, n: 401, lb:0.6542) Worst: 10 (mean:0.0000, n: 1, ub:1.0000) B = 0.35\n",
      "Best: 9 (mean:0.7824351297, n: 501, lb:0.6676) Worst: 11 (mean:0.0000, n: 1, ub:1.0000) B = 0.33\n",
      "Best: 9 (mean:0.7787021631, n: 601, lb:0.6737) Worst: 12 (mean:0.0000, n: 1, ub:1.0000) B = 0.33\n",
      "Best: 9 (mean:0.7703281027, n: 701, lb:0.6723) Worst: 13 (mean:0.0000, n: 1, ub:1.0000) B = 0.33\n",
      "Best: 9 (mean:0.7615480649, n: 801, lb:0.6691) Worst: 6 (mean:0.6634, n: 101, ub:0.8811) B = 0.21\n",
      "Best: 9 (mean:0.7558268590, n: 901, lb:0.6682) Worst: 6 (mean:0.6915, n: 201, ub:0.8518) B = 0.18\n",
      "Best: 9 (mean:0.7452547453, n: 1001, lb:0.6612) Worst: 6 (mean:0.6744, n: 301, ub:0.8135) B = 0.15\n",
      "Best of size  1 :\n",
      "9 0.7511353315168029 0.7224985496390002 0.7783732596181601\n",
      "(9,) mean = 0.75 lb = 0.72 ub = 0.78 coverage: 0.55 n: 1101\n",
      "Making tuples...\n",
      "Best: 12 (mean:1.0000000000, n: 1, lb:0.0000) Worst: 6 (mean:0.0000, n: 1, ub:1.0000) B = 1.00\n",
      "Best: 11 (mean:1.0000000000, n: 1, lb:0.0000) Worst: 7 (mean:0.0000, n: 1, ub:1.0000) B = 1.00\n",
      "Best of size  2 :\n",
      "11 1.0 0.9774595396069665 1\n",
      "(0, 9) mean = 1.00 lb = 0.98 ub = 1.00 coverage: 0.26 n: 101\n",
      "Found eligible anchor  (0, 9) Coverage: 0.26 Is best? True\n",
      "Making tuples...\n"
     ]
    }
   ],
   "source": [
    "best_coverage, segments, exp = explainer.explain_instance(test_img,predict_fn,verbose=True)"
   ]
  },
  {
   "cell_type": "code",
   "execution_count": 15,
   "metadata": {},
   "outputs": [],
   "source": [
    "exp_ = {}\n",
    "# exp_['feature']=[i[0] for i in exp]\n",
    "exp_['feature'] = [0,9]\n",
    "_,mask = image_utils.create_mask(test_img,segments,exp_)"
   ]
  },
  {
   "cell_type": "code",
   "execution_count": 16,
   "metadata": {},
   "outputs": [],
   "source": [
    "anchored = mask*((test_img-0.5)*2)\n",
    "# final = (1-mask)* + target"
   ]
  },
  {
   "cell_type": "code",
   "execution_count": 17,
   "metadata": {},
   "outputs": [
    {
     "data": {
      "text/plain": [
       "Text(0.5,1,'Anchored Image')"
      ]
     },
     "execution_count": 17,
     "metadata": {},
     "output_type": "execute_result"
    },
    {
     "data": {
      "image/png": "[encoded data removed]",
      "text/plain": [
       "<matplotlib.figure.Figure at 0x7f7997765ba8>"
      ]
     },
     "metadata": {
      "needs_background": "light"
     },
     "output_type": "display_data"
    }
   ],
   "source": [
    "fig, ax = plt.subplots(1,3,figsize = (12,12))\n",
    "[ax[i].set_axis_off() for i in range(3)]\n",
    "ax[0].imshow((test_img-0.5)*2, vmin=-1,vmax=1)\n",
    "ax[0].set_title('Original Image')\n",
    "ax[1].imshow(segments)\n",
    "ax[1].set_title('Segmentation Map')\n",
    "ax[2].imshow(anchored,vmin=-1, vmax=1)\n",
    "ax[2].set_title('Anchored Image')\n",
    "# ax[1].imshow(final,vmin=-1, vmax=1)\n",
    "# plt.axis('off');"
   ]
  },
  {
   "cell_type": "code",
   "execution_count": 18,
   "metadata": {},
   "outputs": [],
   "source": [
    "G = dcgan.load_generator().cuda().train();"
   ]
  },
  {
   "cell_type": "code",
   "execution_count": 65,
   "metadata": {},
   "outputs": [
    {
     "data": {
      "text/plain": [
       "[tensor([0.0492], device='cuda:0'),\n",
       " tensor([0.0478], device='cuda:0'),\n",
       " tensor([0.0469], device='cuda:0'),\n",
       " tensor([0.0464], device='cuda:0'),\n",
       " tensor([0.0462], device='cuda:0'),\n",
       " tensor([0.0437], device='cuda:0'),\n",
       " tensor([0.0433], device='cuda:0'),\n",
       " tensor([0.0417], device='cuda:0'),\n",
       " tensor([0.0379, 0.0369], device='cuda:0')]"
      ]
     },
     "execution_count": 65,
     "metadata": {},
     "output_type": "execute_result"
    }
   ],
   "source": [
    "t"
   ]
  },
  {
   "cell_type": "code",
   "execution_count": 74,
   "metadata": {
    "scrolled": true
   },
   "outputs": [
    {
     "data": {
      "text/plain": [
       "<module 'csgm' from '/home/kurtis/Desktop/anchor/ImageAnchors/csgm.py'>"
      ]
     },
     "execution_count": 74,
     "metadata": {},
     "output_type": "execute_result"
    }
   ],
   "source": [
    "importlib.reload(csgm)"
   ]
  },
  {
   "cell_type": "code",
   "execution_count": 66,
   "metadata": {},
   "outputs": [
    {
     "data": {
      "text/plain": [
       "array([0.03701675, 0.04307985, 0.04879601, 0.04643191, 0.03581401,\n",
       "       0.04626749, 0.0470147 , 0.04722167, 0.0494855 , 0.03948641,\n",
       "       0.04589067, 0.04740879, 0.0402539 , 0.03683638, 0.03520907,\n",
       "       0.04900624, 0.04553949, 0.04717908, 0.04169601, 0.04243108,\n",
       "       0.04722624, 0.04065669, 0.04320919, 0.04747138, 0.04035582,\n",
       "       0.04831483, 0.0424976 , 0.04456202, 0.04952756, 0.04834612,\n",
       "       0.03754702, 0.04958978, 0.03467719, 0.03447922, 0.0426988 ,\n",
       "       0.04998017, 0.04322689, 0.03403173, 0.04625552, 0.03868981,\n",
       "       0.02737729, 0.04180519, 0.04342295, 0.03818896, 0.03793837,\n",
       "       0.03157155, 0.04502395, 0.04369461, 0.04617874, 0.04126842,\n",
       "       0.04108816, 0.04588583, 0.04526253, 0.04342354, 0.04522544,\n",
       "       0.04732249, 0.04982617, 0.04707543, 0.0473434 , 0.04284382,\n",
       "       0.04454364, 0.03821433, 0.04741575, 0.04652829])"
      ]
     },
     "execution_count": 66,
     "metadata": {},
     "output_type": "execute_result"
    }
   ],
   "source": [
    "num_samples = 64\n",
    "x = explainer.sample_p(num_samples)\n",
    "x"
   ]
  },
  {
   "cell_type": "code",
   "execution_count": 68,
   "metadata": {},
   "outputs": [
    {
     "data": {
      "text/plain": [
       "array([0.02737729, 0.03157155, 0.03403173, 0.03447922, 0.03467719,\n",
       "       0.03520907, 0.03581401, 0.03683638, 0.03701675, 0.03754702,\n",
       "       0.03793837, 0.03818896, 0.03821433, 0.03868981, 0.03948641,\n",
       "       0.0402539 , 0.04035582, 0.04065669, 0.04108816, 0.04126842,\n",
       "       0.04169601, 0.04180519, 0.04243108, 0.0424976 , 0.0426988 ,\n",
       "       0.04284382, 0.04307985, 0.04320919, 0.04322689, 0.04342295,\n",
       "       0.04342354, 0.04369461, 0.04454364, 0.04456202, 0.04502395,\n",
       "       0.04522544, 0.04526253, 0.04553949, 0.04588583, 0.04589067,\n",
       "       0.04617874, 0.04625552, 0.04626749, 0.04643191, 0.04652829,\n",
       "       0.0470147 , 0.04707543, 0.04717908, 0.04722167, 0.04722624,\n",
       "       0.04732249, 0.0473434 , 0.04740879, 0.04741575, 0.04747138,\n",
       "       0.04831483, 0.04834612, 0.04879601, 0.04900624, 0.0494855 ,\n",
       "       0.04952756, 0.04958978, 0.04982617, 0.04998017])"
      ]
     },
     "execution_count": 68,
     "metadata": {},
     "output_type": "execute_result"
    }
   ],
   "source": [
    "np.sort(x)"
   ]
  },
  {
   "cell_type": "code",
   "execution_count": 79,
   "metadata": {},
   "outputs": [],
   "source": [
    "x = np.array([0.02,0.02,0.03,0.03,0.04,0.04,0.05,0.05])"
   ]
  },
  {
   "cell_type": "code",
   "execution_count": 135,
   "metadata": {},
   "outputs": [],
   "source": [
    "_,raw_reconstruct,background = csgm.reconstruct_batch_threshold(anchored, mask, np.sum(mask), G, x.shape[0], x, lr=.1)"
   ]
  },
  {
   "cell_type": "code",
   "execution_count": 136,
   "metadata": {},
   "outputs": [
    {
     "data": {
      "text/plain": [
       "<matplotlib.image.AxesImage at 0x7f796deebf98>"
      ]
     },
     "execution_count": 136,
     "metadata": {},
     "output_type": "execute_result"
    },
    {
     "data": {
      "image/png": "[encoded data removed]",
      "text/plain": [
       "<matplotlib.figure.Figure at 0x7f796de90b38>"
      ]
     },
     "metadata": {
      "needs_background": "light"
     },
     "output_type": "display_data"
    }
   ],
   "source": [
    "plt.figure(figsize=(10,10))\n",
    "ax = [plt.subplot(4,4,i+1) for i in range(8)]\n",
    "plt.subplots_adjust(wspace=0, hspace=0.1);\n",
    "[ax[i].set_axis_off() for i in range(8)]\n",
    "ax[0].imshow(raw_reconstruct[2])\n",
    "ax[1].imshow(raw_reconstruct[4])\n",
    "ax[2].imshow(raw_reconstruct[6])\n",
    "ax[3].imshow(raw_reconstruct[7])\n",
    "ax[4].imshow(background[2] + anchored)\n",
    "ax[5].imshow(background[4] + anchored)\n",
    "ax[6].imshow(background[6] + anchored)\n",
    "ax[7].imshow(background[7] + anchored)"
   ]
  },
  {
   "cell_type": "code",
   "execution_count": 137,
   "metadata": {},
   "outputs": [],
   "source": [
    "taus = []\n",
    "for i in range(raw_reconstruct.shape[0]):\n",
    "    taus.append(np.sum((raw_reconstruct[i]*mask - anchored)**2)/np.sum(mask))"
   ]
  },
  {
   "cell_type": "code",
   "execution_count": 138,
   "metadata": {},
   "outputs": [
    {
     "data": {
      "text/plain": [
       "array([0.01932084, 0.01976731, 0.02864346, 0.0293501 , 0.03893855,\n",
       "       0.03921625, 0.04552193, 0.04976724])"
      ]
     },
     "execution_count": 138,
     "metadata": {},
     "output_type": "execute_result"
    }
   ],
   "source": [
    "np.sort(taus)"
   ]
  },
  {
   "cell_type": "markdown",
   "metadata": {},
   "source": [
    "## Some Visuals"
   ]
  },
  {
   "cell_type": "code",
   "execution_count": 139,
   "metadata": {},
   "outputs": [],
   "source": [
    "sort_idx = np.argsort(taus)\n",
    "recon = raw_reconstruct[sort_idx]"
   ]
  },
  {
   "cell_type": "code",
   "execution_count": 140,
   "metadata": {},
   "outputs": [
    {
     "data": {
      "image/png": "[encoded data removed]",
      "text/plain": [
       "<matplotlib.figure.Figure at 0x7f796d7e0cf8>"
      ]
     },
     "metadata": {
      "needs_background": "light"
     },
     "output_type": "display_data"
    }
   ],
   "source": [
    "# fig, ax = plt.subplots(2,4,figsize = (12,12))\n",
    "fig = plt.figure(figsize=(10,10))\n",
    "ax = [plt.subplot(4,4,i+1) for i in range(8)]\n",
    "# plt.subplots_adjust(wspace=0, hspace=0.1);\n",
    "for i in range(4):\n",
    "    for j in range(2):\n",
    "#         print(4*j + i)\n",
    "        ax[4*j + i].set_axis_off()\n",
    "        ax[4*j + i].imshow( (recon[i*2 + j] + 1)/2 )\n",
    "        if j == 1:\n",
    "            ax[4*j + i].set_title(\"Threshold = %.1f \" % (.1*(i+2) ), y = -0.2)\n",
    "# plt.axis('off');"
   ]
  },
  {
   "cell_type": "code",
   "execution_count": null,
   "metadata": {},
   "outputs": [],
   "source": []
  }
 ],
 "metadata": {
  "kernelspec": {
   "display_name": "Python 3",
   "language": "python",
   "name": "python3"
  },
  "language_info": {
   "codemirror_mode": {
    "name": "ipython",
    "version": 3
   },
   "file_extension": ".py",
   "mimetype": "text/x-python",
   "name": "python",
   "nbconvert_exporter": "python",
   "pygments_lexer": "ipython3",
   "version": "3.6.6"
  }
 },
 "nbformat": 4,
 "nbformat_minor": 2
}
